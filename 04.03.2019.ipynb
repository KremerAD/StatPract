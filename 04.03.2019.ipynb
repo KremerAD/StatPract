{
 "cells": [
  {
   "cell_type": "code",
   "execution_count": 21,
   "metadata": {},
   "outputs": [
    {
     "name": "stdout",
     "output_type": "stream",
     "text": [
      "[0.18537077 0.49442159 0.62937994 0.3067013  0.53525694 0.42326454\n",
      " 0.52506779 0.34955244 0.44928515 0.72116337]\n"
     ]
    }
   ],
   "source": [
    "#task 1\n",
    "import numpy as np\n",
    "a=np.random.random((10,3))\n",
    "print(a.flatten()[np.argmin(abs(a-0.5),axis=1) + np.arange(0,10*3,3)])"
   ]
  },
  {
   "cell_type": "code",
   "execution_count": 22,
   "metadata": {},
   "outputs": [
    {
     "name": "stdout",
     "output_type": "stream",
     "text": [
      "[319.94514417 148.64615887 467.71331304  42.68463999  10.29418065\n",
      " 484.8704904 ]\n"
     ]
    }
   ],
   "source": [
    "#task 2\n",
    "import numpy as np\n",
    "a=np.random.random((6,6))\n",
    "print(np.sum(a,axis=1) / np.min(a,axis=0))"
   ]
  },
  {
   "cell_type": "code",
   "execution_count": 30,
   "metadata": {
    "scrolled": true
   },
   "outputs": [
    {
     "data": {
      "text/plain": [
       "5"
      ]
     },
     "execution_count": 30,
     "metadata": {},
     "output_type": "execute_result"
    }
   ],
   "source": [
    "#task 3\n",
    "import numpy as np\n",
    "x = np.array([6, 2, 0, 3, 0, 0, 5, 7, 0])\n",
    "mask = x == 0\n",
    "x[1:][mask[:-1]].max()"
   ]
  },
  {
   "cell_type": "code",
   "execution_count": null,
   "metadata": {},
   "outputs": [],
   "source": [
    "#task 4\n",
    "import numpy as np\n",
    "x = np.ones(10)\n",
    "i = np.array([0,1,2,3,5,5,5,8])\n",
    "print(x + np.bincount(i,minlength=10))"
   ]
  }
 ],
 "metadata": {
  "kernelspec": {
   "display_name": "Python 3",
   "language": "python",
   "name": "python3"
  },
  "language_info": {
   "codemirror_mode": {
    "name": "ipython",
    "version": 3
   },
   "file_extension": ".py",
   "mimetype": "text/x-python",
   "name": "python",
   "nbconvert_exporter": "python",
   "pygments_lexer": "ipython3",
   "version": "3.7.1"
  }
 },
 "nbformat": 4,
 "nbformat_minor": 2
}
