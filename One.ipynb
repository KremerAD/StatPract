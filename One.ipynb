{
 "cells": [
  {
   "cell_type": "code",
   "execution_count": 18,
   "metadata": {},
   "outputs": [
    {
     "name": "stdout",
     "output_type": "stream",
     "text": [
      "Введите имя:Lex\n",
      "Введите возвраст:20\n",
      "Lex исполнится 100 лет в 2098\n"
     ]
    }
   ],
   "source": [
    "name = input(\"Введите имя:\")\n",
    "age = int(input(\"Введите возвраст:\"))\n",
    "age = str(2118-age)\n",
    "print(name + \" исполнится 100 лет в \"+ age)"
   ]
  },
  {
   "cell_type": "code",
   "execution_count": 1,
   "metadata": {
    "scrolled": true
   },
   "outputs": [
    {
     "name": "stdout",
     "output_type": "stream",
     "text": [
      "1\n",
      "1\n",
      "2\n",
      "3\n",
      "5\n"
     ]
    }
   ],
   "source": [
    "a = [1, 1, 2, 3, 5, 8, 13, 21, 34, 55, 89]\n",
    "for x in a:\n",
    "    if x <= 5:\n",
    "        print(x)"
   ]
  },
  {
   "cell_type": "code",
   "execution_count": null,
   "metadata": {},
   "outputs": [
    {
     "name": "stdout",
     "output_type": "stream",
     "text": [
      "Введите число между 1 и 9 5\n",
      "Меньше\n",
      "Введите число между 1 и 9 3\n",
      "Угадал с  2  попытки!\n"
     ]
    }
   ],
   "source": [
    "import random\n",
    "num = random.randint(1,9)\n",
    "guess = 0\n",
    "tr = 0\n",
    "while guess != num and guess != \"exit\":\n",
    "    guess = input(\"Введите число между 1 и 9 \")\n",
    "    if guess == \"exit\":\n",
    "        break\n",
    "    guess = int(guess)\n",
    "    tr += 1\n",
    "    if guess < num:\n",
    "        print(\"Больше\")\n",
    "    elif guess > num:\n",
    "        print(\"Меньше\")\n",
    "    else:\n",
    "        print(\"Угадал с \", tr, \" попытки!\")\n",
    "input()"
   ]
  },
  {
   "cell_type": "code",
   "execution_count": null,
   "metadata": {},
   "outputs": [],
   "source": []
  }
 ],
 "metadata": {
  "kernelspec": {
   "display_name": "Python 3",
   "language": "python",
   "name": "python3"
  },
  "language_info": {
   "codemirror_mode": {
    "name": "ipython",
    "version": 3
   },
   "file_extension": ".py",
   "mimetype": "text/x-python",
   "name": "python",
   "nbconvert_exporter": "python",
   "pygments_lexer": "ipython3",
   "version": "3.7.1"
  }
 },
 "nbformat": 4,
 "nbformat_minor": 2
}
